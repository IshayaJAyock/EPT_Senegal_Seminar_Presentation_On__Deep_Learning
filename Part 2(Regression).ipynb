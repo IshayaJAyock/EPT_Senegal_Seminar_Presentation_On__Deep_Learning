{
 "cells": [
  {
   "cell_type": "markdown",
   "metadata": {},
   "source": [
    "We  will be working with the Rossmann store and sales dataset which was used as part of a kaggle     \n",
    "competition for the implemtation of the deep learning model. the link to the dataset is as follows;"
   ]
  },
  {
   "cell_type": "markdown",
   "metadata": {},
   "source": [
    "# Source of dataset\n",
    "\n",
    "!wget www.kaggle.com/c/rossmann-store-sales/data"
   ]
  },
  {
   "cell_type": "code",
   "execution_count": 1,
   "metadata": {},
   "outputs": [],
   "source": [
    "import pandas as pd"
   ]
  },
  {
   "cell_type": "code",
   "execution_count": 2,
   "metadata": {},
   "outputs": [],
   "source": [
    "# Data Importation"
   ]
  },
  {
   "cell_type": "code",
   "execution_count": 3,
   "metadata": {},
   "outputs": [
    {
     "name": "stdout",
     "output_type": "stream",
     "text": [
      "The Shape of the Dataset is : (1017209, 9)\n"
     ]
    },
    {
     "name": "stderr",
     "output_type": "stream",
     "text": [
      "/home/jeremiah/anaconda32/envs/ai/lib/python3.7/site-packages/IPython/core/interactiveshell.py:3146: DtypeWarning: Columns (7) have mixed types.Specify dtype option on import or set low_memory=False.\n",
      "  interactivity=interactivity, compiler=compiler, result=result)\n"
     ]
    }
   ],
   "source": [
    "data = pd.read_csv(\"train.csv\")\n",
    "print(\"The Shape of the Dataset is :\",data.shape)"
   ]
  },
  {
   "cell_type": "markdown",
   "metadata": {},
   "source": [
    "From the above, we can see that we have a total of 1 million and 17 thousand, 209 observations with 9 columns"
   ]
  },
  {
   "cell_type": "code",
   "execution_count": 4,
   "metadata": {},
   "outputs": [],
   "source": [
    "# Checking the first 5 rows of the whole dataset"
   ]
  },
  {
   "cell_type": "code",
   "execution_count": 5,
   "metadata": {},
   "outputs": [
    {
     "data": {
      "text/html": [
       "<div>\n",
       "<style scoped>\n",
       "    .dataframe tbody tr th:only-of-type {\n",
       "        vertical-align: middle;\n",
       "    }\n",
       "\n",
       "    .dataframe tbody tr th {\n",
       "        vertical-align: top;\n",
       "    }\n",
       "\n",
       "    .dataframe thead th {\n",
       "        text-align: right;\n",
       "    }\n",
       "</style>\n",
       "<table border=\"1\" class=\"dataframe\">\n",
       "  <thead>\n",
       "    <tr style=\"text-align: right;\">\n",
       "      <th></th>\n",
       "      <th>Store</th>\n",
       "      <th>DayOfWeek</th>\n",
       "      <th>Date</th>\n",
       "      <th>Sales</th>\n",
       "      <th>Customers</th>\n",
       "      <th>Open</th>\n",
       "      <th>Promo</th>\n",
       "      <th>StateHoliday</th>\n",
       "      <th>SchoolHoliday</th>\n",
       "    </tr>\n",
       "  </thead>\n",
       "  <tbody>\n",
       "    <tr>\n",
       "      <th>0</th>\n",
       "      <td>1</td>\n",
       "      <td>5</td>\n",
       "      <td>2015-07-31</td>\n",
       "      <td>5263</td>\n",
       "      <td>555</td>\n",
       "      <td>1</td>\n",
       "      <td>1</td>\n",
       "      <td>0</td>\n",
       "      <td>1</td>\n",
       "    </tr>\n",
       "    <tr>\n",
       "      <th>1</th>\n",
       "      <td>2</td>\n",
       "      <td>5</td>\n",
       "      <td>2015-07-31</td>\n",
       "      <td>6064</td>\n",
       "      <td>625</td>\n",
       "      <td>1</td>\n",
       "      <td>1</td>\n",
       "      <td>0</td>\n",
       "      <td>1</td>\n",
       "    </tr>\n",
       "    <tr>\n",
       "      <th>2</th>\n",
       "      <td>3</td>\n",
       "      <td>5</td>\n",
       "      <td>2015-07-31</td>\n",
       "      <td>8314</td>\n",
       "      <td>821</td>\n",
       "      <td>1</td>\n",
       "      <td>1</td>\n",
       "      <td>0</td>\n",
       "      <td>1</td>\n",
       "    </tr>\n",
       "    <tr>\n",
       "      <th>3</th>\n",
       "      <td>4</td>\n",
       "      <td>5</td>\n",
       "      <td>2015-07-31</td>\n",
       "      <td>13995</td>\n",
       "      <td>1498</td>\n",
       "      <td>1</td>\n",
       "      <td>1</td>\n",
       "      <td>0</td>\n",
       "      <td>1</td>\n",
       "    </tr>\n",
       "    <tr>\n",
       "      <th>4</th>\n",
       "      <td>5</td>\n",
       "      <td>5</td>\n",
       "      <td>2015-07-31</td>\n",
       "      <td>4822</td>\n",
       "      <td>559</td>\n",
       "      <td>1</td>\n",
       "      <td>1</td>\n",
       "      <td>0</td>\n",
       "      <td>1</td>\n",
       "    </tr>\n",
       "  </tbody>\n",
       "</table>\n",
       "</div>"
      ],
      "text/plain": [
       "   Store  DayOfWeek        Date  Sales  Customers  Open  Promo StateHoliday  \\\n",
       "0      1          5  2015-07-31   5263        555     1      1            0   \n",
       "1      2          5  2015-07-31   6064        625     1      1            0   \n",
       "2      3          5  2015-07-31   8314        821     1      1            0   \n",
       "3      4          5  2015-07-31  13995       1498     1      1            0   \n",
       "4      5          5  2015-07-31   4822        559     1      1            0   \n",
       "\n",
       "   SchoolHoliday  \n",
       "0              1  \n",
       "1              1  \n",
       "2              1  \n",
       "3              1  \n",
       "4              1  "
      ]
     },
     "execution_count": 5,
     "metadata": {},
     "output_type": "execute_result"
    }
   ],
   "source": [
    "data.head(5)"
   ]
  },
  {
   "cell_type": "code",
   "execution_count": null,
   "metadata": {},
   "outputs": [],
   "source": []
  },
  {
   "cell_type": "code",
   "execution_count": 6,
   "metadata": {},
   "outputs": [
    {
     "name": "stdout",
     "output_type": "stream",
     "text": [
      " The Shape of the Dataset is : (1115, 10)\n"
     ]
    }
   ],
   "source": [
    "store = pd.read_csv(\"store.csv\")\n",
    "print(\" The Shape of the Dataset is :\",store.shape)"
   ]
  },
  {
   "cell_type": "code",
   "execution_count": 7,
   "metadata": {},
   "outputs": [],
   "source": [
    "# Viewing the first 5 rows of dataset"
   ]
  },
  {
   "cell_type": "code",
   "execution_count": 8,
   "metadata": {},
   "outputs": [
    {
     "data": {
      "text/html": [
       "<div>\n",
       "<style scoped>\n",
       "    .dataframe tbody tr th:only-of-type {\n",
       "        vertical-align: middle;\n",
       "    }\n",
       "\n",
       "    .dataframe tbody tr th {\n",
       "        vertical-align: top;\n",
       "    }\n",
       "\n",
       "    .dataframe thead th {\n",
       "        text-align: right;\n",
       "    }\n",
       "</style>\n",
       "<table border=\"1\" class=\"dataframe\">\n",
       "  <thead>\n",
       "    <tr style=\"text-align: right;\">\n",
       "      <th></th>\n",
       "      <th>Store</th>\n",
       "      <th>StoreType</th>\n",
       "      <th>Assortment</th>\n",
       "      <th>CompetitionDistance</th>\n",
       "      <th>CompetitionOpenSinceMonth</th>\n",
       "      <th>CompetitionOpenSinceYear</th>\n",
       "      <th>Promo2</th>\n",
       "      <th>Promo2SinceWeek</th>\n",
       "      <th>Promo2SinceYear</th>\n",
       "      <th>PromoInterval</th>\n",
       "    </tr>\n",
       "  </thead>\n",
       "  <tbody>\n",
       "    <tr>\n",
       "      <th>0</th>\n",
       "      <td>1</td>\n",
       "      <td>c</td>\n",
       "      <td>a</td>\n",
       "      <td>1270.0</td>\n",
       "      <td>9.0</td>\n",
       "      <td>2008.0</td>\n",
       "      <td>0</td>\n",
       "      <td>NaN</td>\n",
       "      <td>NaN</td>\n",
       "      <td>NaN</td>\n",
       "    </tr>\n",
       "    <tr>\n",
       "      <th>1</th>\n",
       "      <td>2</td>\n",
       "      <td>a</td>\n",
       "      <td>a</td>\n",
       "      <td>570.0</td>\n",
       "      <td>11.0</td>\n",
       "      <td>2007.0</td>\n",
       "      <td>1</td>\n",
       "      <td>13.0</td>\n",
       "      <td>2010.0</td>\n",
       "      <td>Jan,Apr,Jul,Oct</td>\n",
       "    </tr>\n",
       "    <tr>\n",
       "      <th>2</th>\n",
       "      <td>3</td>\n",
       "      <td>a</td>\n",
       "      <td>a</td>\n",
       "      <td>14130.0</td>\n",
       "      <td>12.0</td>\n",
       "      <td>2006.0</td>\n",
       "      <td>1</td>\n",
       "      <td>14.0</td>\n",
       "      <td>2011.0</td>\n",
       "      <td>Jan,Apr,Jul,Oct</td>\n",
       "    </tr>\n",
       "    <tr>\n",
       "      <th>3</th>\n",
       "      <td>4</td>\n",
       "      <td>c</td>\n",
       "      <td>c</td>\n",
       "      <td>620.0</td>\n",
       "      <td>9.0</td>\n",
       "      <td>2009.0</td>\n",
       "      <td>0</td>\n",
       "      <td>NaN</td>\n",
       "      <td>NaN</td>\n",
       "      <td>NaN</td>\n",
       "    </tr>\n",
       "    <tr>\n",
       "      <th>4</th>\n",
       "      <td>5</td>\n",
       "      <td>a</td>\n",
       "      <td>a</td>\n",
       "      <td>29910.0</td>\n",
       "      <td>4.0</td>\n",
       "      <td>2015.0</td>\n",
       "      <td>0</td>\n",
       "      <td>NaN</td>\n",
       "      <td>NaN</td>\n",
       "      <td>NaN</td>\n",
       "    </tr>\n",
       "  </tbody>\n",
       "</table>\n",
       "</div>"
      ],
      "text/plain": [
       "   Store StoreType Assortment  CompetitionDistance  CompetitionOpenSinceMonth  \\\n",
       "0      1         c          a               1270.0                        9.0   \n",
       "1      2         a          a                570.0                       11.0   \n",
       "2      3         a          a              14130.0                       12.0   \n",
       "3      4         c          c                620.0                        9.0   \n",
       "4      5         a          a              29910.0                        4.0   \n",
       "\n",
       "   CompetitionOpenSinceYear  Promo2  Promo2SinceWeek  Promo2SinceYear  \\\n",
       "0                    2008.0       0              NaN              NaN   \n",
       "1                    2007.0       1             13.0           2010.0   \n",
       "2                    2006.0       1             14.0           2011.0   \n",
       "3                    2009.0       0              NaN              NaN   \n",
       "4                    2015.0       0              NaN              NaN   \n",
       "\n",
       "     PromoInterval  \n",
       "0              NaN  \n",
       "1  Jan,Apr,Jul,Oct  \n",
       "2  Jan,Apr,Jul,Oct  \n",
       "3              NaN  \n",
       "4              NaN  "
      ]
     },
     "execution_count": 8,
     "metadata": {},
     "output_type": "execute_result"
    }
   ],
   "source": [
    "store.head(5)"
   ]
  },
  {
   "cell_type": "code",
   "execution_count": 9,
   "metadata": {},
   "outputs": [],
   "source": [
    "# Merging the two dataset togther to have 1 dataframe.(pandas data structure)"
   ]
  },
  {
   "cell_type": "code",
   "execution_count": 10,
   "metadata": {},
   "outputs": [
    {
     "name": "stdout",
     "output_type": "stream",
     "text": [
      "(1017209, 18)\n"
     ]
    }
   ],
   "source": [
    "c_data = data.merge(store,on=[\"Store\"], how=\"inner\")\n",
    "print(c_data.shape)"
   ]
  },
  {
   "cell_type": "code",
   "execution_count": null,
   "metadata": {},
   "outputs": [],
   "source": []
  },
  {
   "cell_type": "code",
   "execution_count": 11,
   "metadata": {},
   "outputs": [
    {
     "name": "stdout",
     "output_type": "stream",
     "text": [
      "Unique number of Stores in the dataset is: 1115\n",
      "Unique number of Days in the dataset is : 942\n",
      "Average daily sales of all stores available:  5773.82\n"
     ]
    }
   ],
   "source": [
    "print(\"Unique number of Stores in the dataset is:\", len(c_data[\"Store\"].unique()))\n",
    "print(\"Unique number of Days in the dataset is :\", len(c_data[\"Date\"].unique()))\n",
    "print(\"Average daily sales of all stores available: \",round(c_data[\"Sales\"].mean(),2))"
   ]
  },
  {
   "cell_type": "code",
   "execution_count": 12,
   "metadata": {},
   "outputs": [],
   "source": [
    "# Checking the  Data Types of the dataset"
   ]
  },
  {
   "cell_type": "code",
   "execution_count": 13,
   "metadata": {},
   "outputs": [
    {
     "data": {
      "text/plain": [
       "Store                          int64\n",
       "DayOfWeek                      int64\n",
       "Date                          object\n",
       "Sales                          int64\n",
       "Customers                      int64\n",
       "Open                           int64\n",
       "Promo                          int64\n",
       "StateHoliday                  object\n",
       "SchoolHoliday                  int64\n",
       "StoreType                     object\n",
       "Assortment                    object\n",
       "CompetitionDistance          float64\n",
       "CompetitionOpenSinceMonth    float64\n",
       "CompetitionOpenSinceYear     float64\n",
       "Promo2                         int64\n",
       "Promo2SinceWeek              float64\n",
       "Promo2SinceYear              float64\n",
       "PromoInterval                 object\n",
       "dtype: object"
      ]
     },
     "execution_count": 13,
     "metadata": {},
     "output_type": "execute_result"
    }
   ],
   "source": [
    "c_data.dtypes"
   ]
  },
  {
   "cell_type": "code",
   "execution_count": 14,
   "metadata": {},
   "outputs": [],
   "source": [
    "# Time Intelligence"
   ]
  },
  {
   "cell_type": "code",
   "execution_count": 15,
   "metadata": {},
   "outputs": [
    {
     "data": {
      "text/plain": [
       "5    145845\n",
       "4    145845\n",
       "3    145665\n",
       "2    145664\n",
       "7    144730\n",
       "6    144730\n",
       "1    144730\n",
       "Name: DayOfWeek, dtype: int64"
      ]
     },
     "execution_count": 15,
     "metadata": {},
     "output_type": "execute_result"
    }
   ],
   "source": [
    "c_data[\"DayOfWeek\"].value_counts() # Working with Time"
   ]
  },
  {
   "cell_type": "code",
   "execution_count": 16,
   "metadata": {},
   "outputs": [],
   "source": [
    "# Using the date column and datetime module to extract all date related information "
   ]
  },
  {
   "cell_type": "code",
   "execution_count": 17,
   "metadata": {},
   "outputs": [
    {
     "name": "stderr",
     "output_type": "stream",
     "text": [
      "/home/jeremiah/anaconda32/envs/ai/lib/python3.7/site-packages/ipykernel_launcher.py:7: FutureWarning: Series.dt.weekofyear and Series.dt.week have been deprecated.  Please use Series.dt.isocalendar().week instead.\n",
      "  import sys\n"
     ]
    }
   ],
   "source": [
    "import numpy as np\n",
    "c_data['Date'] = pd.to_datetime(c_data['Date'], infer_datetime_format=True)\n",
    "c_data[\"Month\"] = c_data[\"Date\"].dt.month\n",
    "c_data[\"Quarter\"] = c_data[\"Date\"].dt.quarter\n",
    "c_data[\"Year\"] = c_data[\"Date\"].dt.year\n",
    "c_data[\"Day\"] = c_data[\"Date\"].dt.day\n",
    "c_data[\"Week\"] = c_data[\"Date\"].dt.week\n",
    "c_data[\"Season\"] = np.where(c_data[\"Month\"].isin([3,4,5]),\"Spring\",\n",
    "                      np.where(c_data[\"Month\"].isin([6,7,8]),\"Summer\",\n",
    "                      np.where(c_data[\"Month\"].isin([9,10,11]),\"Fall\",\n",
    "                      np.where(c_data[\"Month\"].isin([12,1,2]),\"Winter\",\"None\"))))"
   ]
  },
  {
   "cell_type": "code",
   "execution_count": 18,
   "metadata": {},
   "outputs": [],
   "source": [
    "# Viewing the knewly added columns (featured engineering)"
   ]
  },
  {
   "cell_type": "code",
   "execution_count": 19,
   "metadata": {},
   "outputs": [
    {
     "name": "stdout",
     "output_type": "stream",
     "text": [
      "        Date  Year  Month  Day  Week  Quarter  Season\n",
      "0 2015-07-31  2015      7   31    31        3  Summer\n",
      "1 2015-07-30  2015      7   30    31        3  Summer\n",
      "2 2015-07-29  2015      7   29    31        3  Summer\n",
      "3 2015-07-28  2015      7   28    31        3  Summer\n",
      "4 2015-07-27  2015      7   27    31        3  Summer\n"
     ]
    }
   ],
   "source": [
    "print(c_data[[\"Date\",\"Year\",\"Month\",\"Day\",\"Week\",\"Quarter\",\"Season\"]].head())"
   ]
  },
  {
   "cell_type": "code",
   "execution_count": null,
   "metadata": {},
   "outputs": [],
   "source": []
  },
  {
   "cell_type": "markdown",
   "metadata": {},
   "source": [
    "# Data Exploration "
   ]
  },
  {
   "cell_type": "code",
   "execution_count": 20,
   "metadata": {},
   "outputs": [],
   "source": [
    "import matplotlib.pyplot as plt\n",
    "%matplotlib inline"
   ]
  },
  {
   "cell_type": "code",
   "execution_count": 21,
   "metadata": {},
   "outputs": [],
   "source": [
    "# Viewing the distribution of the sales column using histogram"
   ]
  },
  {
   "cell_type": "code",
   "execution_count": 22,
   "metadata": {},
   "outputs": [
    {
     "data": {
      "image/png": "[encoded data removed]",
      "text/plain": [
       "<Figure size 1080x576 with 1 Axes>"
      ]
     },
     "metadata": {
      "needs_background": "light"
     },
     "output_type": "display_data"
    }
   ],
   "source": [
    "plt.figure(figsize=(15,8))\n",
    "plt.hist(c_data[\"Sales\"])\n",
    "plt.title(\"Histogram for Store Sales\")\n",
    "plt.xlabel(\"Bins\")\n",
    "plt.xlabel(\"Frequency\")\n",
    "plt.show()"
   ]
  },
  {
   "cell_type": "code",
   "execution_count": 23,
   "metadata": {},
   "outputs": [],
   "source": [
    "# Univariate Analysis(Numeric Columns)"
   ]
  },
  {
   "cell_type": "code",
   "execution_count": 24,
   "metadata": {},
   "outputs": [],
   "source": [
    "# Plotting a histogram for all the numerical columns."
   ]
  },
  {
   "cell_type": "code",
   "execution_count": 25,
   "metadata": {},
   "outputs": [
    {
     "data": {
      "text/plain": [
       "array([[<AxesSubplot:title={'center':'Store'}>,\n",
       "        <AxesSubplot:title={'center':'DayOfWeek'}>,\n",
       "        <AxesSubplot:title={'center':'Sales'}>,\n",
       "        <AxesSubplot:title={'center':'Customers'}>],\n",
       "       [<AxesSubplot:title={'center':'Open'}>,\n",
       "        <AxesSubplot:title={'center':'Promo'}>,\n",
       "        <AxesSubplot:title={'center':'SchoolHoliday'}>,\n",
       "        <AxesSubplot:title={'center':'CompetitionDistance'}>],\n",
       "       [<AxesSubplot:title={'center':'CompetitionOpenSinceMonth'}>,\n",
       "        <AxesSubplot:title={'center':'CompetitionOpenSinceYear'}>,\n",
       "        <AxesSubplot:title={'center':'Promo2'}>,\n",
       "        <AxesSubplot:title={'center':'Promo2SinceWeek'}>],\n",
       "       [<AxesSubplot:title={'center':'Promo2SinceYear'}>,\n",
       "        <AxesSubplot:title={'center':'Month'}>,\n",
       "        <AxesSubplot:title={'center':'Quarter'}>,\n",
       "        <AxesSubplot:title={'center':'Year'}>],\n",
       "       [<AxesSubplot:title={'center':'Day'}>,\n",
       "        <AxesSubplot:title={'center':'Week'}>, <AxesSubplot:>,\n",
       "        <AxesSubplot:>]], dtype=object)"
      ]
     },
     "execution_count": 25,
     "metadata": {},
     "output_type": "execute_result"
    },
    {
     "data": {
      "image/png": "[encoded data removed]",
      "text/plain": [
       "<Figure size 1440x720 with 20 Axes>"
      ]
     },
     "metadata": {
      "needs_background": "light"
     },
     "output_type": "display_data"
    }
   ],
   "source": [
    "c_data.hist(figsize=(20,10))"
   ]
  },
  {
   "cell_type": "code",
   "execution_count": 26,
   "metadata": {},
   "outputs": [],
   "source": [
    "# Checking percentages of null values in the combined dataset"
   ]
  },
  {
   "cell_type": "code",
   "execution_count": 27,
   "metadata": {},
   "outputs": [
    {
     "data": {
      "text/plain": [
       "Store                         0.000000\n",
       "DayOfWeek                     0.000000\n",
       "Date                          0.000000\n",
       "Sales                         0.000000\n",
       "Customers                     0.000000\n",
       "Open                          0.000000\n",
       "Promo                         0.000000\n",
       "StateHoliday                  0.000000\n",
       "SchoolHoliday                 0.000000\n",
       "StoreType                     0.000000\n",
       "Assortment                    0.000000\n",
       "CompetitionDistance           0.259730\n",
       "CompetitionOpenSinceMonth    31.787764\n",
       "CompetitionOpenSinceYear     31.787764\n",
       "Promo2                        0.000000\n",
       "Promo2SinceWeek              49.943620\n",
       "Promo2SinceYear              49.943620\n",
       "PromoInterval                49.943620\n",
       "Month                         0.000000\n",
       "Quarter                       0.000000\n",
       "Year                          0.000000\n",
       "Day                           0.000000\n",
       "Week                          0.000000\n",
       "Season                        0.000000\n",
       "dtype: float64"
      ]
     },
     "execution_count": 27,
     "metadata": {},
     "output_type": "execute_result"
    }
   ],
   "source": [
    "c_data.isnull().sum()/c_data.shape[0] * 100"
   ]
  },
  {
   "cell_type": "code",
   "execution_count": 28,
   "metadata": {},
   "outputs": [],
   "source": [
    "# We Replace the null values with the mode\n",
    "# And Computing the percentage of null value present in the data set."
   ]
  },
  {
   "cell_type": "code",
   "execution_count": 29,
   "metadata": {},
   "outputs": [
    {
     "data": {
      "text/plain": [
       "0.0"
      ]
     },
     "execution_count": 29,
     "metadata": {},
     "output_type": "execute_result"
    }
   ],
   "source": [
    "c_data[\"CompetitionDistance\"]=c_data[\"CompetitionDistance\"].fillna(c_data[\"CompetitionDistance\"].mode()[0])\n",
    "\n",
    "\n",
    "c_data[\"CompetitionDistance\"].isnull().sum()/c_data.shape[0] * 100 "
   ]
  },
  {
   "cell_type": "code",
   "execution_count": 30,
   "metadata": {},
   "outputs": [],
   "source": [
    "# Understanding the Categorical Features"
   ]
  },
  {
   "cell_type": "code",
   "execution_count": 31,
   "metadata": {},
   "outputs": [],
   "source": [
    "import seaborn as sns  \n",
    "sns.set(style=\"whitegrid\")"
   ]
  },
  {
   "cell_type": "code",
   "execution_count": 32,
   "metadata": {},
   "outputs": [
    {
     "data": {
      "image/png": "[encoded data removed]",
      "text/plain": [
       "<Figure size 432x288 with 1 Axes>"
      ]
     },
     "metadata": {},
     "output_type": "display_data"
    }
   ],
   "source": [
    "Assortmentsax = sns.barplot(x=\"Assortment\", y=\"Sales\", data=c_data) # A bar plot of Average Sales by Assortment"
   ]
  },
  {
   "cell_type": "code",
   "execution_count": 33,
   "metadata": {},
   "outputs": [
    {
     "data": {
      "image/png": "[encoded data removed]",
      "text/plain": [
       "<Figure size 432x288 with 1 Axes>"
      ]
     },
     "metadata": {},
     "output_type": "display_data"
    }
   ],
   "source": [
    "Typesax = sns.barplot(x=\"StoreType\", y=\"Sales\", data=c_data) # A bar plot for Average Sales by StoreType"
   ]
  },
  {
   "cell_type": "code",
   "execution_count": 34,
   "metadata": {},
   "outputs": [
    {
     "data": {
      "image/png": "[encoded data removed]",
      "text/plain": [
       "<Figure size 432x288 with 1 Axes>"
      ]
     },
     "metadata": {},
     "output_type": "display_data"
    }
   ],
   "source": [
    "ax = sns.barplot(x=\"Season\", y=\"Sales\", data=c_data,estimator=np.size) # A bar plot for Average Sales by Season"
   ]
  },
  {
   "cell_type": "code",
   "execution_count": 35,
   "metadata": {},
   "outputs": [],
   "source": [
    "# Fearture Engineering "
   ]
  },
  {
   "cell_type": "markdown",
   "metadata": {},
   "source": [
    "Recall that deep learning  models understand only numerical data,  \n",
    "Therefore, all categorical features stored as text columns has to be   \n",
    "converted using a one-hot encod for the model to apply the training data.  "
   ]
  },
  {
   "cell_type": "code",
   "execution_count": 36,
   "metadata": {},
   "outputs": [],
   "source": [
    "#Define a variable for each type of feature\n",
    "from sklearn.preprocessing import LabelEncoder\n",
    "from sklearn.preprocessing import OneHotEncoder\n",
    "\n",
    "target = [\"Sales\"]\n",
    "\n",
    "numeric_columns = [\"Customers\",\"Open\",\"Promo\",\"Promo2\",\"StateHoliday\",\"SchoolHoliday\",\"CompetitionDistance\"]\n",
    "\n",
    "categorical_columns = [\"DayOfWeek\",\"Quarter\",\"Month\",\"Year\",\"StoreType\",\"Assortment\",\"Season\"]\n",
    "\n",
    "\n",
    "# This function convert categoriacal columns to one-hot enconding \n",
    "def create_ohe(df, col):\n",
    "    le = LabelEncoder()\n",
    "    a=le.fit_transform(c_data[col]).reshape(-1,1)\n",
    "    ohe = OneHotEncoder(sparse=False)\n",
    "    column_names = [col+ \"_\"+ str(i) for i in le.classes_]\n",
    "    return(pd.DataFrame(ohe.fit_transform(a),columns =column_names))"
   ]
  },
  {
   "cell_type": "code",
   "execution_count": 37,
   "metadata": {},
   "outputs": [],
   "source": [
    "# Applying the function on the columns of interest"
   ]
  },
  {
   "cell_type": "code",
   "execution_count": 38,
   "metadata": {},
   "outputs": [],
   "source": [
    "temp = c_data[numeric_columns]\n",
    "\n",
    "for column in categorical_columns:\n",
    "    temp_df = create_ohe(c_data,column)\n",
    "    temp = pd.concat([temp,temp_df],axis=1)"
   ]
  },
  {
   "cell_type": "code",
   "execution_count": 39,
   "metadata": {},
   "outputs": [
    {
     "name": "stdout",
     "output_type": "stream",
     "text": [
      "Shape of the new Data: (1017209, 44)\n",
      "Unique  Datatypes of the newdataset: [dtype('int64') dtype('O') dtype('float64')]\n"
     ]
    }
   ],
   "source": [
    "print(\"Shape of the new Data:\",temp.shape)\n",
    "print(\"Unique  Datatypes of the newdataset:\",temp.dtypes.unique())"
   ]
  },
  {
   "cell_type": "code",
   "execution_count": 40,
   "metadata": {},
   "outputs": [
    {
     "name": "stdout",
     "output_type": "stream",
     "text": [
      "Index(['StateHoliday'], dtype='object')\n"
     ]
    }
   ],
   "source": [
    "print(temp.columns[temp.dtypes==\"object\"])"
   ]
  },
  {
   "cell_type": "code",
   "execution_count": 41,
   "metadata": {},
   "outputs": [
    {
     "data": {
      "text/plain": [
       "array(['0', 'a', 'b', 'c', 0], dtype=object)"
      ]
     },
     "execution_count": 41,
     "metadata": {},
     "output_type": "execute_result"
    }
   ],
   "source": [
    "temp[\"StateHoliday\"].unique()"
   ]
  },
  {
   "cell_type": "code",
   "execution_count": 42,
   "metadata": {},
   "outputs": [
    {
     "data": {
      "text/plain": [
       "array([dtype('int64'), dtype('float64')], dtype=object)"
      ]
     },
     "execution_count": 42,
     "metadata": {},
     "output_type": "execute_result"
    }
   ],
   "source": [
    "temp[\"StateHoliday\"]= np.where(temp[\"StateHoliday\"]== '0',0,1)\n",
    "\n",
    "temp.dtypes.unique()"
   ]
  },
  {
   "cell_type": "code",
   "execution_count": null,
   "metadata": {},
   "outputs": [],
   "source": []
  },
  {
   "cell_type": "markdown",
   "metadata": {},
   "source": [
    "# Modelling Part"
   ]
  },
  {
   "cell_type": "code",
   "execution_count": 43,
   "metadata": {},
   "outputs": [],
   "source": [
    "import numpy as np \n",
    "from sklearn.model_selection import train_test_split"
   ]
  },
  {
   "cell_type": "code",
   "execution_count": null,
   "metadata": {},
   "outputs": [],
   "source": []
  },
  {
   "cell_type": "code",
   "execution_count": 44,
   "metadata": {},
   "outputs": [],
   "source": [
    "x_train, x_test, y_train, y_test = train_test_split(temp, c_data[target],test_size=0.2,random_state=2018)\n",
    "\n",
    "x_train, x_val, y_train, y_val = train_test_split(x_train,y_train,test_size=0.1,random_state=2018)"
   ]
  },
  {
   "cell_type": "code",
   "execution_count": null,
   "metadata": {},
   "outputs": [],
   "source": []
  },
  {
   "cell_type": "code",
   "execution_count": 45,
   "metadata": {},
   "outputs": [],
   "source": [
    "#calculate the average score of the train dataset"
   ]
  },
  {
   "cell_type": "code",
   "execution_count": 46,
   "metadata": {},
   "outputs": [
    {
     "name": "stdout",
     "output_type": "stream",
     "text": [
      "The Average Sales is : Sales    5773.099997\n",
      "dtype: float64\n"
     ]
    }
   ],
   "source": [
    "mean_sales = y_train.mean()\n",
    "print(\"The Average Sales is :\",mean_sales)"
   ]
  },
  {
   "cell_type": "code",
   "execution_count": 47,
   "metadata": {},
   "outputs": [],
   "source": [
    "#Calculate the Mean Absolute Error on the test dataset"
   ]
  },
  {
   "cell_type": "code",
   "execution_count": 48,
   "metadata": {},
   "outputs": [
    {
     "name": "stdout",
     "output_type": "stream",
     "text": [
      "The MAE for Test Data is:  2883.587604303215\n"
     ]
    }
   ],
   "source": [
    "print(\"The MAE for Test Data is: \",abs(y_test - mean_sales).mean()[0])"
   ]
  },
  {
   "cell_type": "markdown",
   "metadata": {},
   "source": [
    "# Guidelines to Follow with building a deep learning model."
   ]
  },
  {
   "cell_type": "markdown",
   "metadata": {},
   "source": [
    " 1: Start with small architectures.\n",
    "\n",
    " 2: When small architectures (with two layers)\n",
    "    fail, increase the size.\n",
    "\n",
    " 3: When larger networks with two layers fail, go\n",
    "    deeper.  \n",
    "\n",
    " 4: When larger and deeper networks also fail, go\n",
    "    even larger and even deeper. \n",
    "   \n",
    "\n",
    " 5: When everything fails, revisit the data. "
   ]
  },
  {
   "cell_type": "code",
   "execution_count": 49,
   "metadata": {},
   "outputs": [],
   "source": [
    "# Designing the Deep Neural Network Architecture(sequential model)"
   ]
  },
  {
   "cell_type": "code",
   "execution_count": 50,
   "metadata": {},
   "outputs": [],
   "source": [
    "from keras.models import Sequential\n",
    "from keras.layers import Dense, Dropout"
   ]
  },
  {
   "cell_type": "code",
   "execution_count": 51,
   "metadata": {},
   "outputs": [],
   "source": [
    "# Model"
   ]
  },
  {
   "cell_type": "code",
   "execution_count": 52,
   "metadata": {},
   "outputs": [],
   "source": [
    "model = Sequential()\n",
    "model.add(Dense(150,input_dim = 44,activation=\"relu\"))\n",
    "model.add(Dense(1,activation = \"linear\"))"
   ]
  },
  {
   "cell_type": "code",
   "execution_count": 53,
   "metadata": {},
   "outputs": [],
   "source": [
    "# Configuring the model"
   ]
  },
  {
   "cell_type": "code",
   "execution_count": 54,
   "metadata": {},
   "outputs": [],
   "source": [
    "model.compile(optimizer='adam',loss=\"mean_absolute_error\", metrics=[\"mean_absolute_error\"])"
   ]
  },
  {
   "cell_type": "code",
   "execution_count": 55,
   "metadata": {},
   "outputs": [],
   "source": [
    "#Train the model"
   ]
  },
  {
   "cell_type": "code",
   "execution_count": 56,
   "metadata": {},
   "outputs": [
    {
     "name": "stdout",
     "output_type": "stream",
     "text": [
      "Epoch 1/10\n",
      "11444/11444 [==============================] - 12s 1ms/step - loss: 950.1122 - mean_absolute_error: 950.1122 - val_loss: 830.5090 - val_mean_absolute_error: 830.5090\n",
      "Epoch 2/10\n",
      "11444/11444 [==============================] - 12s 1ms/step - loss: 788.0390 - mean_absolute_error: 788.0390 - val_loss: 775.0178 - val_mean_absolute_error: 775.0178\n",
      "Epoch 3/10\n",
      "11444/11444 [==============================] - 12s 1ms/step - loss: 742.9883 - mean_absolute_error: 742.9883 - val_loss: 724.6970 - val_mean_absolute_error: 724.6970\n",
      "Epoch 4/10\n",
      "11444/11444 [==============================] - 13s 1ms/step - loss: 725.8807 - mean_absolute_error: 725.8807 - val_loss: 711.6331 - val_mean_absolute_error: 711.6331\n",
      "Epoch 5/10\n",
      "11444/11444 [==============================] - 13s 1ms/step - loss: 714.6355 - mean_absolute_error: 714.6355 - val_loss: 717.2173 - val_mean_absolute_error: 717.2173\n",
      "Epoch 6/10\n",
      "11444/11444 [==============================] - 12s 1ms/step - loss: 707.0183 - mean_absolute_error: 707.0183 - val_loss: 696.1190 - val_mean_absolute_error: 696.1190\n",
      "Epoch 7/10\n",
      "11444/11444 [==============================] - 12s 1ms/step - loss: 700.3448 - mean_absolute_error: 700.3448 - val_loss: 689.2276 - val_mean_absolute_error: 689.2276\n",
      "Epoch 8/10\n",
      "11444/11444 [==============================] - 13s 1ms/step - loss: 694.9759 - mean_absolute_error: 694.9759 - val_loss: 685.1407 - val_mean_absolute_error: 685.1407\n",
      "Epoch 9/10\n",
      "11444/11444 [==============================] - 12s 1ms/step - loss: 689.9367 - mean_absolute_error: 689.9367 - val_loss: 685.3407 - val_mean_absolute_error: 685.3407\n",
      "Epoch 10/10\n",
      "11444/11444 [==============================] - 12s 1ms/step - loss: 686.2091 - mean_absolute_error: 686.2091 - val_loss: 685.3733 - val_mean_absolute_error: 685.3733\n"
     ]
    },
    {
     "data": {
      "text/plain": [
       "<tensorflow.python.keras.callbacks.History at 0x7f4131b9f450>"
      ]
     },
     "execution_count": 56,
     "metadata": {},
     "output_type": "execute_result"
    }
   ],
   "source": [
    "model.fit(x_train.values,y_train.values, validation_data= (x_val,y_val),epochs=10,batch_size=64)"
   ]
  },
  {
   "cell_type": "code",
   "execution_count": 57,
   "metadata": {},
   "outputs": [],
   "source": [
    "# Checking the Model Performance with the testing dataset(using the model's evaluate method)"
   ]
  },
  {
   "cell_type": "code",
   "execution_count": 58,
   "metadata": {},
   "outputs": [
    {
     "name": "stdout",
     "output_type": "stream",
     "text": [
      "6358/6358 [==============================] - 7s 1ms/step - loss: 681.9406 - mean_absolute_error: 681.9406\n",
      "Metric  loss : 681.94\n",
      "Metric  mean_absolute_error : 681.94\n"
     ]
    }
   ],
   "source": [
    "result = model.evaluate(x_test.values,y_test.values)\n",
    "for i in range(len(model.metrics_names)):\n",
    "    print(\"Metric \",model.metrics_names[i],\":\",str(round(result[i],2)))"
   ]
  },
  {
   "cell_type": "code",
   "execution_count": null,
   "metadata": {},
   "outputs": [],
   "source": []
  },
  {
   "cell_type": "code",
   "execution_count": 59,
   "metadata": {},
   "outputs": [],
   "source": [
    "# Comparing the Model Performance based on the Network size."
   ]
  },
  {
   "cell_type": "markdown",
   "metadata": {},
   "source": [
    "Improving the Model performace by adding more layers to our network. As discused in the theory of our presentation"
   ]
  },
  {
   "cell_type": "code",
   "execution_count": 60,
   "metadata": {},
   "outputs": [
    {
     "name": "stdout",
     "output_type": "stream",
     "text": [
      "Epoch 1/10\n",
      "11444/11444 [==============================] - 23s 2ms/step - loss: 1729443.5000 - mean_absolute_error: 851.5225 - val_loss: 1106472.6250 - val_mean_absolute_error: 714.6333\n",
      "Epoch 2/10\n",
      "11444/11444 [==============================] - 22s 2ms/step - loss: 1143034.3750 - mean_absolute_error: 716.4719 - val_loss: 1230274.5000 - val_mean_absolute_error: 739.7812\n",
      "Epoch 3/10\n",
      "11444/11444 [==============================] - 19s 2ms/step - loss: 1083898.6250 - mean_absolute_error: 697.3734 - val_loss: 1023314.4375 - val_mean_absolute_error: 686.8353\n",
      "Epoch 4/10\n",
      "11444/11444 [==============================] - 19s 2ms/step - loss: 1053609.2500 - mean_absolute_error: 688.1448 - val_loss: 1031664.1250 - val_mean_absolute_error: 688.8319\n",
      "Epoch 5/10\n",
      "11444/11444 [==============================] - 19s 2ms/step - loss: 1034060.8750 - mean_absolute_error: 681.9217 - val_loss: 1032187.3750 - val_mean_absolute_error: 685.0978\n",
      "Epoch 6/10\n",
      "11444/11444 [==============================] - 18s 2ms/step - loss: 1013291.3125 - mean_absolute_error: 675.2058 - val_loss: 948332.5625 - val_mean_absolute_error: 658.3248\n",
      "Epoch 7/10\n",
      "11444/11444 [==============================] - 18s 2ms/step - loss: 998018.3750 - mean_absolute_error: 670.7930 - val_loss: 1039596.5625 - val_mean_absolute_error: 700.2386\n",
      "Epoch 8/10\n",
      "11444/11444 [==============================] - 18s 2ms/step - loss: 983812.5000 - mean_absolute_error: 667.0438 - val_loss: 1051259.1250 - val_mean_absolute_error: 676.5599\n",
      "Epoch 9/10\n",
      "11444/11444 [==============================] - 18s 2ms/step - loss: 966942.5625 - mean_absolute_error: 662.1309 - val_loss: 955705.6250 - val_mean_absolute_error: 664.1607\n",
      "Epoch 10/10\n",
      "11444/11444 [==============================] - 18s 2ms/step - loss: 952202.9375 - mean_absolute_error: 657.2381 - val_loss: 944829.7500 - val_mean_absolute_error: 655.2172\n",
      "Metric  loss : 681.94\n",
      "Metric  mean_absolute_error : 681.94\n"
     ]
    }
   ],
   "source": [
    "model = Sequential()\n",
    "\n",
    "model.add(Dense(150,input_dim = 44,activation=\"relu\"))\n",
    "model.add(Dense(150,activation=\"relu\"))\n",
    "model.add(Dense(150,activation=\"relu\"))\n",
    "model.add(Dense(1,activation = \"linear\"))\n",
    "model.compile(optimizer='adam',loss=\"mean_squared_error\",metrics=[\"mean_absolute_error\"])\n",
    "history = model.fit(x_train,y_train, validation_data=(x_val,y_val),epochs=10,batch_size=64)\n",
    "\n",
    "# Outputing the results\n",
    "for i in range(len(model.metrics_names)):\n",
    "    print(\"Metric \",model.metrics_names[i],\":\",str(round(result[i],2)))"
   ]
  },
  {
   "cell_type": "code",
   "execution_count": null,
   "metadata": {},
   "outputs": [],
   "source": []
  },
  {
   "cell_type": "code",
   "execution_count": null,
   "metadata": {},
   "outputs": [],
   "source": []
  },
  {
   "cell_type": "markdown",
   "metadata": {},
   "source": [
    "Again we the network deeper by adding more hidden layers with 200 neuronsnin each layer."
   ]
  },
  {
   "cell_type": "code",
   "execution_count": 61,
   "metadata": {},
   "outputs": [],
   "source": [
    "model = Sequential()\n",
    "model.add(Dense(200,input_dim = 44,activation=\"relu\"))\n",
    "model.add(Dense(200,activation=\"relu\"))\n",
    "model.add(Dense(200,activation=\"relu\"))\n",
    "model.add(Dense(200,activation=\"relu\"))\n",
    "model.add(Dense(200,activation=\"relu\"))\n",
    "model.add(Dense(1,activation = \"linear\"))"
   ]
  },
  {
   "cell_type": "code",
   "execution_count": 62,
   "metadata": {},
   "outputs": [],
   "source": [
    " # compiling and fiting the data to the model for the training aspect"
   ]
  },
  {
   "cell_type": "code",
   "execution_count": 63,
   "metadata": {},
   "outputs": [
    {
     "name": "stdout",
     "output_type": "stream",
     "text": [
      "Epoch 1/15\n",
      "11444/11444 [==============================] - 33s 3ms/step - loss: 1671300.3750 - mean_absolute_error: 847.6323 - val_loss: 1276578.5000 - val_mean_absolute_error: 758.7444\n",
      "Epoch 2/15\n",
      "11444/11444 [==============================] - 33s 3ms/step - loss: 1170619.0000 - mean_absolute_error: 724.7571 - val_loss: 1168717.6250 - val_mean_absolute_error: 713.7767\n",
      "Epoch 3/15\n",
      "11444/11444 [==============================] - 33s 3ms/step - loss: 1096296.5000 - mean_absolute_error: 700.1171 - val_loss: 1087990.7500 - val_mean_absolute_error: 695.1469\n",
      "Epoch 4/15\n",
      "11444/11444 [==============================] - 33s 3ms/step - loss: 1060033.0000 - mean_absolute_error: 689.3956 - val_loss: 984564.1250 - val_mean_absolute_error: 674.1551\n",
      "Epoch 5/15\n",
      "11444/11444 [==============================] - 34s 3ms/step - loss: 1035596.8750 - mean_absolute_error: 681.7233 - val_loss: 1019285.8750 - val_mean_absolute_error: 671.9108\n",
      "Epoch 6/15\n",
      "11444/11444 [==============================] - 34s 3ms/step - loss: 1010174.1875 - mean_absolute_error: 673.8405 - val_loss: 953114.1250 - val_mean_absolute_error: 658.4177\n",
      "Epoch 7/15\n",
      "11444/11444 [==============================] - 35s 3ms/step - loss: 987565.6875 - mean_absolute_error: 667.5616 - val_loss: 920504.0000 - val_mean_absolute_error: 652.9145\n",
      "Epoch 8/15\n",
      "11444/11444 [==============================] - 37s 3ms/step - loss: 969023.5000 - mean_absolute_error: 662.1349 - val_loss: 936435.5625 - val_mean_absolute_error: 653.0624\n",
      "Epoch 9/15\n",
      "11444/11444 [==============================] - 35s 3ms/step - loss: 955529.5625 - mean_absolute_error: 657.0649 - val_loss: 907523.1250 - val_mean_absolute_error: 639.1619\n",
      "Epoch 10/15\n",
      "11444/11444 [==============================] - 35s 3ms/step - loss: 932348.1250 - mean_absolute_error: 650.5798 - val_loss: 891892.9375 - val_mean_absolute_error: 646.6910\n",
      "Epoch 11/15\n",
      "11444/11444 [==============================] - 34s 3ms/step - loss: 918966.6875 - mean_absolute_error: 645.3673 - val_loss: 929345.3125 - val_mean_absolute_error: 650.2510\n",
      "Epoch 12/15\n",
      "11444/11444 [==============================] - 34s 3ms/step - loss: 902469.2500 - mean_absolute_error: 639.5494 - val_loss: 834470.6875 - val_mean_absolute_error: 623.6320\n",
      "Epoch 13/15\n",
      "11444/11444 [==============================] - 35s 3ms/step - loss: 884436.5000 - mean_absolute_error: 632.9417 - val_loss: 850951.6875 - val_mean_absolute_error: 627.4808\n",
      "Epoch 14/15\n",
      "11444/11444 [==============================] - 35s 3ms/step - loss: 867454.0625 - mean_absolute_error: 626.7570 - val_loss: 898628.3125 - val_mean_absolute_error: 637.9971\n",
      "Epoch 15/15\n",
      "11444/11444 [==============================] - 35s 3ms/step - loss: 858118.1250 - mean_absolute_error: 623.1901 - val_loss: 824599.8125 - val_mean_absolute_error: 611.2420\n"
     ]
    },
    {
     "data": {
      "text/plain": [
       "<tensorflow.python.keras.callbacks.History at 0x7f4157615210>"
      ]
     },
     "execution_count": 63,
     "metadata": {},
     "output_type": "execute_result"
    }
   ],
   "source": [
    "model.compile(optimizer='adam',loss=\"mean_squared_error\",metrics=[\"mean_absolute_error\"])\n",
    "model.fit(x_train,y_train, validation_data=(x_val,y_val), epochs=15,batch_size=64)"
   ]
  },
  {
   "cell_type": "code",
   "execution_count": 64,
   "metadata": {},
   "outputs": [],
   "source": [
    "# Outputing the results"
   ]
  },
  {
   "cell_type": "code",
   "execution_count": 65,
   "metadata": {},
   "outputs": [
    {
     "name": "stdout",
     "output_type": "stream",
     "text": [
      "6358/6358 [==============================] - 5s 804us/step - loss: 821465.0000 - mean_absolute_error: 606.9346\n",
      "Metric  loss : 821465.0\n",
      "Metric  mean_absolute_error : 606.93\n"
     ]
    }
   ],
   "source": [
    "result = model.evaluate(x_test,y_test)\n",
    "for i in range(len(model.metrics_names)):\n",
    "    print(\"Metric \",model.metrics_names[i],\":\",str(round(result[i],2)))"
   ]
  },
  {
   "cell_type": "code",
   "execution_count": null,
   "metadata": {},
   "outputs": [],
   "source": []
  },
  {
   "cell_type": "markdown",
   "metadata": {},
   "source": [
    "# Improving Performance by of the model by increasing the neurons number in each layer of the network."
   ]
  },
  {
   "cell_type": "code",
   "execution_count": null,
   "metadata": {},
   "outputs": [],
   "source": []
  },
  {
   "cell_type": "code",
   "execution_count": 66,
   "metadata": {},
   "outputs": [],
   "source": [
    "model = Sequential()\n",
    "model.add(Dense(400,input_dim = 44,activation=\"relu\"))\n",
    "model.add(Dense(400,activation=\"relu\"))\n",
    "model.add(Dense(1, activation = \"linear\"))\n",
    "model.compile(optimizer='adam',loss=\"mean_squared_error\", metrics=[\"mean_absolute_error\"])"
   ]
  },
  {
   "cell_type": "code",
   "execution_count": 67,
   "metadata": {},
   "outputs": [],
   "source": [
    "# Training the network with the traning data"
   ]
  },
  {
   "cell_type": "code",
   "execution_count": 68,
   "metadata": {},
   "outputs": [
    {
     "name": "stdout",
     "output_type": "stream",
     "text": [
      "Epoch 1/15\n",
      "11444/11444 [==============================] - 30s 3ms/step - loss: 1649744.3750 - mean_absolute_error: 842.2195 - val_loss: 1361478.8750 - val_mean_absolute_error: 815.0551\n",
      "Epoch 2/15\n",
      "11444/11444 [==============================] - 29s 2ms/step - loss: 1164585.5000 - mean_absolute_error: 727.8109 - val_loss: 1078920.5000 - val_mean_absolute_error: 703.0526\n",
      "Epoch 3/15\n",
      "11444/11444 [==============================] - 31s 3ms/step - loss: 1104153.5000 - mean_absolute_error: 709.5686 - val_loss: 1002876.3125 - val_mean_absolute_error: 688.2271\n",
      "Epoch 4/15\n",
      "11444/11444 [==============================] - 30s 3ms/step - loss: 1060217.2500 - mean_absolute_error: 693.6401 - val_loss: 1023715.0000 - val_mean_absolute_error: 697.4832\n",
      "Epoch 5/15\n",
      "11444/11444 [==============================] - 30s 3ms/step - loss: 1032031.0625 - mean_absolute_error: 683.5731 - val_loss: 986527.1875 - val_mean_absolute_error: 673.4246\n",
      "Epoch 6/15\n",
      "11444/11444 [==============================] - 29s 3ms/step - loss: 1011882.7500 - mean_absolute_error: 675.8412 - val_loss: 946164.1875 - val_mean_absolute_error: 658.6552\n",
      "Epoch 7/15\n",
      "11444/11444 [==============================] - 27s 2ms/step - loss: 993749.8750 - mean_absolute_error: 670.0301 - val_loss: 956047.2500 - val_mean_absolute_error: 657.9785\n",
      "Epoch 8/15\n",
      "11444/11444 [==============================] - 28s 2ms/step - loss: 976563.4375 - mean_absolute_error: 664.1204 - val_loss: 993385.3750 - val_mean_absolute_error: 671.5193\n",
      "Epoch 9/15\n",
      "11444/11444 [==============================] - 28s 2ms/step - loss: 959879.7500 - mean_absolute_error: 659.1519 - val_loss: 1066933.6250 - val_mean_absolute_error: 691.1186\n",
      "Epoch 10/15\n",
      "11444/11444 [==============================] - 28s 2ms/step - loss: 948416.3750 - mean_absolute_error: 655.5112 - val_loss: 905258.5625 - val_mean_absolute_error: 642.7606\n",
      "Epoch 11/15\n",
      "11444/11444 [==============================] - 31s 3ms/step - loss: 932027.1875 - mean_absolute_error: 650.7751 - val_loss: 905694.9375 - val_mean_absolute_error: 645.0026\n",
      "Epoch 12/15\n",
      "11444/11444 [==============================] - 34s 3ms/step - loss: 921054.3125 - mean_absolute_error: 646.9562 - val_loss: 880662.1875 - val_mean_absolute_error: 634.7349\n",
      "Epoch 13/15\n",
      "11444/11444 [==============================] - 29s 3ms/step - loss: 910435.0625 - mean_absolute_error: 643.2341 - val_loss: 915230.3125 - val_mean_absolute_error: 653.0692\n",
      "Epoch 14/15\n",
      "11444/11444 [==============================] - 28s 2ms/step - loss: 900655.8125 - mean_absolute_error: 639.9864 - val_loss: 886630.6875 - val_mean_absolute_error: 645.5133\n",
      "Epoch 15/15\n",
      "11444/11444 [==============================] - 29s 3ms/step - loss: 889793.5625 - mean_absolute_error: 636.3054 - val_loss: 858463.3750 - val_mean_absolute_error: 626.1847\n"
     ]
    },
    {
     "data": {
      "text/plain": [
       "<tensorflow.python.keras.callbacks.History at 0x7f40ec2e80d0>"
      ]
     },
     "execution_count": 68,
     "metadata": {},
     "output_type": "execute_result"
    }
   ],
   "source": [
    "model.fit(x_train,y_train, validation_data=(x_val,y_val),epochs=15,batch_size=64)"
   ]
  },
  {
   "cell_type": "code",
   "execution_count": 69,
   "metadata": {},
   "outputs": [],
   "source": [
    "# Evaluating with the test data and outputing the results"
   ]
  },
  {
   "cell_type": "code",
   "execution_count": 70,
   "metadata": {},
   "outputs": [
    {
     "name": "stdout",
     "output_type": "stream",
     "text": [
      "6358/6358 [==============================] - 5s 791us/step - loss: 860003.5000 - mean_absolute_error: 623.5370\n",
      "Metric  loss : 860003.5\n",
      "Metric  mean_absolute_error : 623.54\n"
     ]
    }
   ],
   "source": [
    "result = model.evaluate(x_test,y_test)\n",
    "for i in range(len(model.metrics_names)):\n",
    "    print(\"Metric \",model.metrics_names[i],\":\",str(round(result[i],2)))"
   ]
  },
  {
   "cell_type": "markdown",
   "metadata": {},
   "source": [
    "Adding more layers to inprove the netwolrk accuracy  and using   \n",
    "call backs parameter to record the history of various metric during the training ."
   ]
  },
  {
   "cell_type": "code",
   "execution_count": 71,
   "metadata": {},
   "outputs": [],
   "source": [
    "from keras.callbacks import History\n",
    "history = History()\n",
    "model = Sequential()\n",
    "model.add(Dense(400,input_dim = 44,activation=\"relu\"))\n",
    "model.add(Dense(400,activation=\"relu\"))\n",
    "model.add(Dense(400,activation=\"relu\"))\n",
    "model.add(Dense(400,activation=\"relu\"))\n",
    "model.add(Dense(400,activation=\"relu\"))\n",
    "model.add(Dense(1,activation = \"linear\"))"
   ]
  },
  {
   "cell_type": "code",
   "execution_count": null,
   "metadata": {},
   "outputs": [],
   "source": []
  },
  {
   "cell_type": "code",
   "execution_count": 72,
   "metadata": {},
   "outputs": [
    {
     "name": "stdout",
     "output_type": "stream",
     "text": [
      "Epoch 1/15\n",
      "11444/11444 [==============================] - 71s 6ms/step - loss: 1655987.0000 - mean_absolute_error: 845.7874 - val_loss: 1159237.2500 - val_mean_absolute_error: 717.9360\n",
      "Epoch 2/15\n",
      "11444/11444 [==============================] - 74s 6ms/step - loss: 1175940.5000 - mean_absolute_error: 725.8435 - val_loss: 1113910.2500 - val_mean_absolute_error: 727.0017\n",
      "Epoch 3/15\n",
      "11444/11444 [==============================] - 74s 6ms/step - loss: 1110903.6250 - mean_absolute_error: 704.3981 - val_loss: 1103776.7500 - val_mean_absolute_error: 721.4929\n",
      "Epoch 4/15\n",
      "11444/11444 [==============================] - 80s 7ms/step - loss: 1066918.5000 - mean_absolute_error: 690.7486 - val_loss: 1128845.1250 - val_mean_absolute_error: 710.2573\n",
      "Epoch 5/15\n",
      "11444/11444 [==============================] - 77s 7ms/step - loss: 1044706.6250 - mean_absolute_error: 684.1591 - val_loss: 953359.1875 - val_mean_absolute_error: 658.1061\n",
      "Epoch 6/15\n",
      "11444/11444 [==============================] - 73s 6ms/step - loss: 1017481.4375 - mean_absolute_error: 675.6621 - val_loss: 978241.0625 - val_mean_absolute_error: 662.5980\n",
      "Epoch 7/15\n",
      "11444/11444 [==============================] - 73s 6ms/step - loss: 995495.4375 - mean_absolute_error: 669.3604 - val_loss: 997639.5000 - val_mean_absolute_error: 667.7996\n",
      "Epoch 8/15\n",
      "11444/11444 [==============================] - 70s 6ms/step - loss: 976128.8125 - mean_absolute_error: 663.3804 - val_loss: 1001660.9375 - val_mean_absolute_error: 683.8870\n",
      "Epoch 9/15\n",
      "11444/11444 [==============================] - 73s 6ms/step - loss: 954777.3750 - mean_absolute_error: 656.7622 - val_loss: 946210.0625 - val_mean_absolute_error: 654.2814\n",
      "Epoch 10/15\n",
      "11444/11444 [==============================] - 71s 6ms/step - loss: 939326.8750 - mean_absolute_error: 651.6428 - val_loss: 887494.1875 - val_mean_absolute_error: 646.8091\n",
      "Epoch 11/15\n",
      "11444/11444 [==============================] - 74s 6ms/step - loss: 927648.4375 - mean_absolute_error: 647.6143 - val_loss: 896475.0000 - val_mean_absolute_error: 638.4886\n",
      "Epoch 12/15\n",
      "11444/11444 [==============================] - 75s 7ms/step - loss: 909628.8125 - mean_absolute_error: 641.4612 - val_loss: 869498.3750 - val_mean_absolute_error: 629.8401\n",
      "Epoch 13/15\n",
      "11444/11444 [==============================] - 77s 7ms/step - loss: 892441.0000 - mean_absolute_error: 635.0860 - val_loss: 850186.0625 - val_mean_absolute_error: 627.4003\n",
      "Epoch 14/15\n",
      "11444/11444 [==============================] - 92s 8ms/step - loss: 882579.8125 - mean_absolute_error: 631.1604 - val_loss: 898506.5625 - val_mean_absolute_error: 651.3704\n",
      "Epoch 15/15\n",
      "11444/11444 [==============================] - 92s 8ms/step - loss: 872421.3750 - mean_absolute_error: 626.8794 - val_loss: 949283.0625 - val_mean_absolute_error: 662.7510\n"
     ]
    },
    {
     "data": {
      "text/plain": [
       "<tensorflow.python.keras.callbacks.History at 0x7f40ec1b3850>"
      ]
     },
     "execution_count": 72,
     "metadata": {},
     "output_type": "execute_result"
    }
   ],
   "source": [
    "model.compile(optimizer='adam',loss=\"mean_squared_error\",metrics=[\"mean_absolute_error\"])\n",
    "\n",
    "model.fit(x_train,y_train, validation_data=(x_val,y_val),epochs=15,batch_size=64,callbacks=[history])"
   ]
  },
  {
   "cell_type": "code",
   "execution_count": null,
   "metadata": {},
   "outputs": [],
   "source": []
  },
  {
   "cell_type": "code",
   "execution_count": 73,
   "metadata": {},
   "outputs": [
    {
     "name": "stdout",
     "output_type": "stream",
     "text": [
      "6358/6358 [==============================] - 14s 2ms/step - loss: 943205.1250 - mean_absolute_error: 659.5919\n",
      "Metric  loss : 943205.12\n",
      "Metric  mean_absolute_error : 659.59\n"
     ]
    }
   ],
   "source": [
    "result = model.evaluate(x_test,y_test)\n",
    "for i in range(len(model.metrics_names)):\n",
    "    print(\"Metric \",model.metrics_names[i],\":\",str(round(result[i],2)))"
   ]
  },
  {
   "cell_type": "code",
   "execution_count": null,
   "metadata": {},
   "outputs": [],
   "source": []
  },
  {
   "cell_type": "code",
   "execution_count": 74,
   "metadata": {},
   "outputs": [],
   "source": [
    "# We then  plot the Loss metric accross the Epochs"
   ]
  },
  {
   "cell_type": "code",
   "execution_count": 75,
   "metadata": {},
   "outputs": [
    {
     "data": {
      "image/png": "[encoded data removed]",
      "text/plain": [
       "<Figure size 432x288 with 1 Axes>"
      ]
     },
     "metadata": {},
     "output_type": "display_data"
    }
   ],
   "source": [
    "plt.plot(history.history['loss'])\n",
    "plt.plot(history.history['val_loss'])\n",
    "plt.title(\"Model's training and validation loss across the  Epochs\")\n",
    "plt.ylabel('Loss')\n",
    "plt.xlabel('Epochs')\n",
    "plt.legend(['Train', 'Validation'], loc='upper right')\n",
    "plt.show()"
   ]
  },
  {
   "cell_type": "markdown",
   "metadata": {},
   "source": [
    "# Exercise for the Student to Interpret the above graph below"
   ]
  },
  {
   "cell_type": "code",
   "execution_count": null,
   "metadata": {},
   "outputs": [],
   "source": []
  }
 ],
 "metadata": {
  "kernelspec": {
   "display_name": "Python 3",
   "language": "python",
   "name": "python3"
  },
  "language_info": {
   "codemirror_mode": {
    "name": "ipython",
    "version": 3
   },
   "file_extension": ".py",
   "mimetype": "text/x-python",
   "name": "python",
   "nbconvert_exporter": "python",
   "pygments_lexer": "ipython3",
   "version": "3.7.9"
  }
 },
 "nbformat": 4,
 "nbformat_minor": 4
}
